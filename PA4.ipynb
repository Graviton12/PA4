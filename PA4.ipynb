{
 "cells": [
  {
   "cell_type": "markdown",
   "id": "73bc44b6",
   "metadata": {},
   "source": [
    "# Assignment 4: Working with If Statements, Samia Mahmood, Version 1, Spring 2023"
   ]
  },
  {
   "cell_type": "markdown",
   "id": "5c56052d",
   "metadata": {},
   "source": [
    "#### a. Write a Python program that prints numbers from 0 to 100 (using a for structure and the range() function) with each line number. Print an asterisk next to any number that is a multiple of 3 (except 0 and 3)."
   ]
  },
  {
   "cell_type": "code",
   "execution_count": 1,
   "id": "518eabad",
   "metadata": {},
   "outputs": [
    {
     "name": "stdout",
     "output_type": "stream",
     "text": [
      "0\n",
      "1\n",
      "2\n",
      "3\n",
      "4\n",
      "5\n",
      "6 *\n",
      "7\n",
      "8\n",
      "9 *\n",
      "10\n",
      "11\n",
      "12 *\n",
      "13\n",
      "14\n",
      "15 *\n",
      "16\n",
      "17\n",
      "18 *\n",
      "19\n",
      "20\n",
      "21 *\n",
      "22\n",
      "23\n",
      "24 *\n",
      "25\n",
      "26\n",
      "27 *\n",
      "28\n",
      "29\n",
      "30 *\n",
      "31\n",
      "32\n",
      "33 *\n",
      "34\n",
      "35\n",
      "36 *\n",
      "37\n",
      "38\n",
      "39 *\n",
      "40\n",
      "41\n",
      "42 *\n",
      "43\n",
      "44\n",
      "45 *\n",
      "46\n",
      "47\n",
      "48 *\n",
      "49\n",
      "50\n",
      "51 *\n",
      "52\n",
      "53\n",
      "54 *\n",
      "55\n",
      "56\n",
      "57 *\n",
      "58\n",
      "59\n",
      "60 *\n",
      "61\n",
      "62\n",
      "63 *\n",
      "64\n",
      "65\n",
      "66 *\n",
      "67\n",
      "68\n",
      "69 *\n",
      "70\n",
      "71\n",
      "72 *\n",
      "73\n",
      "74\n",
      "75 *\n",
      "76\n",
      "77\n",
      "78 *\n",
      "79\n",
      "80\n",
      "81 *\n",
      "82\n",
      "83\n",
      "84 *\n",
      "85\n",
      "86\n",
      "87 *\n",
      "88\n",
      "89\n",
      "90 *\n",
      "91\n",
      "92\n",
      "93 *\n",
      "94\n",
      "95\n",
      "96 *\n",
      "97\n",
      "98\n",
      "99 *\n"
     ]
    }
   ],
   "source": [
    "for i in range(0,100):\n",
    "    if (i in range(6,100,3)):\n",
    "        print(i,\"*\")\n",
    "    else:\n",
    "        print(i)"
   ]
  },
  {
   "cell_type": "markdown",
   "id": "7fb58124",
   "metadata": {},
   "source": [
    "#### b. Write a Python program that will accept a number from 1 to 12 and display the name of the month and days in the month. Consider that the month of February has 28 days. "
   ]
  },
  {
   "cell_type": "code",
   "execution_count": 12,
   "id": "a5daaeea",
   "metadata": {},
   "outputs": [
    {
     "name": "stdout",
     "output_type": "stream",
     "text": [
      "Enter a number of the month from 1 to 12: 12\n",
      "December: 31 Days\n"
     ]
    }
   ],
   "source": [
    "number=int(input(\"Enter a number of the month from 1 to 12: \"))\n",
    "\n",
    "if (number==1):\n",
    "    print(\"January: 31 Days\")\n",
    "elif (number==2):\n",
    "    print(\"February: 28 Days\")\n",
    "elif (number==3):\n",
    "    print(\"March: 31 Days\")\n",
    "elif (number==4):\n",
    "    print(\"April: 30 Days\")\n",
    "elif (number==5):\n",
    "    print(\"May: 31 Days\")\n",
    "elif (number==6):\n",
    "    print(\"June: 30 Days\")\n",
    "elif (number==7):\n",
    "    print(\"July: 31 Days\")\n",
    "elif (number==8):\n",
    "    print(\"August: 31 Days\")\n",
    "elif (number==9):\n",
    "    print(\"September: 31 Days\")\n",
    "elif (number==10):\n",
    "    print(\"October: 30 Days\")\n",
    "elif (number==11):\n",
    "    print(\"November: 30 Days\")\n",
    "else:\n",
    "    print(\"December: 31 Days\")"
   ]
  },
  {
   "cell_type": "markdown",
   "id": "40e0c2fb",
   "metadata": {},
   "source": [
    "#### c.\tWrite a program to check whether user input is prime or not. "
   ]
  },
  {
   "cell_type": "code",
   "execution_count": 12,
   "id": "12a48a1d",
   "metadata": {},
   "outputs": [
    {
     "name": "stdout",
     "output_type": "stream",
     "text": [
      "Enter a whole number: 12\n",
      "It's not a Prime Number\n"
     ]
    }
   ],
   "source": [
    "number = int(input(\"Enter a whole number: \"))\n",
    "\n",
    "if number==1:\n",
    "    print(\"It's not a Prime Number\")\n",
    "elif (number>1):\n",
    "    for i in range(2, number):\n",
    "        if (number%i==0):\n",
    "            print(\"It's not a Prime Number\")\n",
    "            break\n",
    "    else: \n",
    "        print(\"It's a Prime Number\")\n",
    "else:\n",
    "    print(\"It's not a Prime Number\")"
   ]
  },
  {
   "cell_type": "markdown",
   "id": "51c8fd5f",
   "metadata": {},
   "source": [
    "#### d.\tAccept three sides of a triangle and check whether it is an equilateral, isosceles, or scalene triangle."
   ]
  },
  {
   "cell_type": "code",
   "execution_count": 3,
   "id": "083338c5",
   "metadata": {},
   "outputs": [
    {
     "name": "stdout",
     "output_type": "stream",
     "text": [
      "Enter the base of the triangle: 2\n",
      "Enter the height of the triangle: 3\n",
      "Enter the hypotenuse of the triangle: 4\n",
      "this is a scalene triangle\n"
     ]
    }
   ],
   "source": [
    "base=int(input(\"Enter the base of the triangle: \"))\n",
    "height=int(input(\"Enter the height of the triangle: \"))\n",
    "hypo=int(input(\"Enter the hypotenuse of the triangle: \"))\n",
    "\n",
    "if (base==height and height==hypo):\n",
    "    print(\"This is an equilateral triangle\")\n",
    "elif (base==height or height==hypo or base==hypo):\n",
    "    print(\"This is an isosceles triangle\")\n",
    "else:\n",
    "    print(\"this is a scalene triangle\")"
   ]
  },
  {
   "cell_type": "markdown",
   "id": "401b896d",
   "metadata": {},
   "source": [
    "#### e.\tWrite a Python program that will evaluate if a value that represents an age falls into the following categories: minor(<18), adult(18-64), senior citizen(>=65). Your program should take input from a list of numbers (e.g. [65,78,34,56,12,9,43,67])."
   ]
  },
  {
   "cell_type": "code",
   "execution_count": 7,
   "id": "14475f7f",
   "metadata": {},
   "outputs": [
    {
     "name": "stdout",
     "output_type": "stream",
     "text": [
      "65 : Senior Citizen\n",
      "78 : Senior Citizen\n",
      "34 : Adult\n",
      "56 : Adult\n",
      "12 : Minor\n",
      "9 : Minor\n",
      "43 : Adult\n",
      "67 : Senior Citizen\n"
     ]
    }
   ],
   "source": [
    "list=[65,78,34,56,12,9,43,67]\n",
    "\n",
    "for i in list:\n",
    "    if (i < 18):\n",
    "        print(i, \":\",\"Minor\")\n",
    "    elif (i >= 18 and i <= 64):\n",
    "        print(i, \":\",\"Adult\")\n",
    "    else:\n",
    "        print(i,\":\",\"Senior Citizen\")"
   ]
  },
  {
   "cell_type": "code",
   "execution_count": null,
   "id": "c5063551",
   "metadata": {},
   "outputs": [],
   "source": []
  },
  {
   "cell_type": "code",
   "execution_count": null,
   "id": "5e3daf4a",
   "metadata": {},
   "outputs": [],
   "source": []
  }
 ],
 "metadata": {
  "kernelspec": {
   "display_name": "Python 3 (ipykernel)",
   "language": "python",
   "name": "python3"
  },
  "language_info": {
   "codemirror_mode": {
    "name": "ipython",
    "version": 3
   },
   "file_extension": ".py",
   "mimetype": "text/x-python",
   "name": "python",
   "nbconvert_exporter": "python",
   "pygments_lexer": "ipython3",
   "version": "3.9.13"
  }
 },
 "nbformat": 4,
 "nbformat_minor": 5
}
